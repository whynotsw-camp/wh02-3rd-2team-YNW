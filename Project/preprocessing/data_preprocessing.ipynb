{
 "cells": [
  {
   "cell_type": "code",

   "execution_count": 1,
   "id": "initial_id",
   "metadata": {
    "ExecuteTime": {
     "end_time": "2024-12-30T09:54:16.436006Z",
     "start_time": "2024-12-30T09:54:16.431179Z"
    },
    "collapsed": true
   },
   "outputs": [],

   "source": [
    "import pandas as pd\n",
    "import os\n",
    "\n",
    "folder = '../data'"
   ]
  },
  {
   "cell_type": "code",
   "execution_count": null,
   "id": "67ea7139e5372774",
   "metadata": {
    "ExecuteTime": {
     "end_time": "2024-12-30T09:34:21.503285Z",
     "start_time": "2024-12-30T09:34:21.493158Z"
    }
   },
   "outputs": [],
   "source": [
    "folder"
   ]
  },
  {
   "cell_type": "code",
   "execution_count": null,
   "id": "ba56bb7c16199455",
   "metadata": {
    "ExecuteTime": {
     "end_time": "2024-12-30T09:34:31.094182Z",
     "start_time": "2024-12-30T09:34:31.081946Z"
    }
   },
   "outputs": [],
   "source": [
    "df = pd.DataFrame()\n",
    "\n",
    "# 빈 리스트로 CSV 파일 데이터를 저장할 공간 준비\n",
    "df_list = []\n",
    "\n",
    "# main - sub 연결 없이 - 하나의 sub가 다양한 main에서 쓰이기 때문에 mapping하지 않고 그냥 다 합침\n",
    "for file in os.listdir(folder):\n",
    "    df = pd.read_csv(f\"../data/{file}\", encoding='utf-8-sig')  # 각 CSV 파일을 DataFrame으로 읽기\n",
    "    df_list.append(df)  # 읽은 DataFrame을 리스트에 추가\n",
    "\n",
    "# 모든 DataFrame을 하나로 합치기\n",
    "final_df = pd.concat(df_list, ignore_index=True)  # ignore_index=True로 인덱스 초기화\n",
    "\n",
    "# 결과 DataFrame 출력\n",
    "print(final_df)"
   ]
  },
  {
   "cell_type": "code",
   "execution_count": null,
   "id": "b325a896230f3cb8",
   "metadata": {
    "ExecuteTime": {
     "end_time": "2024-12-30T09:34:32.709091Z",
     "start_time": "2024-12-30T09:34:32.688899Z"
    }
   },
   "outputs": [],
   "source": [
    "final_df.head()"
   ]
  },
  {
   "cell_type": "code",
   "execution_count": null,
   "id": "23d2a49a",
   "metadata": {},
   "outputs": [],
   "source": [
    "final_df.drop(columns=['Unnamed: 0.1', 'Unnamed: 0'], inplace=True)"
   ]
  },
  {
   "cell_type": "code",
   "execution_count": null,
   "id": "51013bf0",
   "metadata": {},
   "outputs": [],
   "source": [
    "print(final_df.head())"
   ]
  },
  {
   "cell_type": "code",
   "execution_count": 20,
   "id": "3e8f8af9",
   "metadata": {},
   "outputs": [],
   "source": [
    "final_df.to_csv(\"../data/final_qa_list.csv\")"
   ]
  },
  {
   "cell_type": "code",
   "execution_count": null,
   "id": "19e20e1d",
   "metadata": {},
   "outputs": [],
   "source": [
    "final_check_df = pd.read_csv(\"../data/final_qa_list.csv\")\n",
    "\n",
    "final_check_df.head()"
   ]
  }
 ],
 "metadata": {
  "kernelspec": {
   "display_name": "llm-env",
   "language": "python",
   "name": "python3"
  },
  "language_info": {
   "codemirror_mode": {
    "name": "ipython",
    "version": 3
   },
   "file_extension": ".py",
   "mimetype": "text/x-python",
   "name": "python",
   "nbconvert_exporter": "python",
   "pygments_lexer": "ipython3",
   "version": "3.10.0"

  }
 },
 "nbformat": 4,
 "nbformat_minor": 5
}
